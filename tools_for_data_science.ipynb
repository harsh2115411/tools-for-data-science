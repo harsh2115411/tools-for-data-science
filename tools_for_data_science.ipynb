{
  "nbformat": 4,
  "nbformat_minor": 0,
  "metadata": {
    "colab": {
      "provenance": []
    },
    "kernelspec": {
      "name": "python3",
      "display_name": "Python 3"
    },
    "language_info": {
      "name": "python"
    }
  },
  "cells": [
    {
      "cell_type": "markdown",
      "source": [
        "Tols for Data Science"
      ],
      "metadata": {
        "id": "tCXkbA4Q0hPg"
      }
    },
    {
      "cell_type": "markdown",
      "source": [
        "In this notebook we will discuss about tools and technologies used in data science"
      ],
      "metadata": {
        "id": "J_xnZCiI0m8_"
      }
    },
    {
      "cell_type": "markdown",
      "source": [
        "Some of the popular languages used in the field of data science are:-\n",
        "\n",
        "  1.Python\n",
        "\n",
        "  2.R\n",
        "\n",
        "  3.SQL\n",
        "\n",
        "  4.Java"
      ],
      "metadata": {
        "id": "wkZ_19Cz0xJv"
      }
    },
    {
      "cell_type": "markdown",
      "source": [
        "The common used libraries in data science are:-\n",
        "\n",
        "1.Numpy\n",
        "\n",
        "2.Pandas\n",
        "\n",
        "3.Seaborn\n",
        "\n",
        "4.Matpotlib\n",
        "\n",
        "5.Tensorflow\n",
        "\n",
        "6.Keras\n",
        "\n",
        "7.Pytorch"
      ],
      "metadata": {
        "id": "vykTRIy305ah"
      }
    },
    {
      "cell_type": "markdown",
      "source": [
        "|Data science tools|\n",
        "|---|\n",
        "|SAS|\n",
        "|Apache hadoop|\n",
        "|Tensorflow|\n"
      ],
      "metadata": {
        "id": "h1A0YnEq1AdI"
      }
    },
    {
      "cell_type": "markdown",
      "source": [
        "arithmetic expression examples:-"
      ],
      "metadata": {
        "id": "ziE_6cuK1DlB"
      }
    },
    {
      "cell_type": "code",
      "execution_count": 2,
      "metadata": {
        "colab": {
          "base_uri": "https://localhost:8080/"
        },
        "id": "8UC1Z3iwz63N",
        "outputId": "e9fe6847-e953-466d-f5e5-2597fe53a97d"
      },
      "outputs": [
        {
          "output_type": "execute_result",
          "data": {
            "text/plain": [
              "10"
            ]
          },
          "metadata": {},
          "execution_count": 2
        }
      ],
      "source": [
        "# cell to multiply and add numbers.\n",
        "(2*3)+4"
      ]
    },
    {
      "cell_type": "code",
      "source": [
        "# this will convert 300 minutes into hours\n",
        "300/60"
      ],
      "metadata": {
        "colab": {
          "base_uri": "https://localhost:8080/"
        },
        "id": "P1yu_pkh1Usb",
        "outputId": "e7f2d4ce-90ca-41be-ca48-90849de4d542"
      },
      "execution_count": 3,
      "outputs": [
        {
          "output_type": "execute_result",
          "data": {
            "text/plain": [
              "5.0"
            ]
          },
          "metadata": {},
          "execution_count": 3
        }
      ]
    },
    {
      "cell_type": "markdown",
      "source": [
        "_OBJECTIVES_\n",
        "* list popular languages for data science\n",
        "* list popular libraries used in data science\n",
        "* list popular tools for data science\n"
      ],
      "metadata": {
        "id": "EJtzhD331vOX"
      }
    },
    {
      "cell_type": "markdown",
      "source": [
        "_AUTHOR'S NAME_\n",
        "\n",
        " Harsh Pilania\n"
      ],
      "metadata": {
        "id": "dwQcXLyH2UXr"
      }
    },
    {
      "cell_type": "markdown",
      "source": [],
      "metadata": {
        "id": "ttFq9hVg0BhM"
      }
    }
  ]
}